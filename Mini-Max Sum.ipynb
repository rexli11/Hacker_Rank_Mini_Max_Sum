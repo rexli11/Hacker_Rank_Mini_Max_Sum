{
 "cells": [
  {
   "cell_type": "code",
   "execution_count": 37,
   "metadata": {},
   "outputs": [
    {
     "name": "stdout",
     "output_type": "stream",
     "text": [
      "15\n",
      "min =  10\n",
      "max =  14\n"
     ]
    }
   ],
   "source": [
    "arr = [1,2,3,4,5]\n",
    "\n",
    "'''題目 : min、max >> n是多少就用n - 1作為相加標準，n = 5，arr_min = 1,3,5,7，arr_max = 3,5,7,9\n",
    "範圍 : 1 <= arr[i] <= 10^9\n",
    "解題方向 : 先判斷範圍 >> 判斷arr開頭與結尾的index >> 總加後減去頭尾'''\n",
    "\n",
    "\n",
    "n = len(arr)\n",
    "\n",
    "arr_total = 0\n",
    "arr_start = min(arr)\n",
    "arr_end = max(arr)\n",
    "\n",
    "\n",
    "if 1 <= n <= 10**9 : \n",
    "    for i in range(len(arr)) : \n",
    "            arr_total += arr[i]\n",
    "else : \n",
    "    print(\"arr out of range\")\n",
    "    \n",
    "print(arr_total)\n",
    "print(\"min = \", arr_total - arr_end)\n",
    "print(\"max = \", arr_total - arr_start)"
   ]
  }
 ],
 "metadata": {
  "interpreter": {
   "hash": "b3ba2566441a7c06988d0923437866b63cedc61552a5af99d1f4fb67d367b25f"
  },
  "kernelspec": {
   "display_name": "Python 3.8.8 ('base')",
   "language": "python",
   "name": "python3"
  },
  "language_info": {
   "codemirror_mode": {
    "name": "ipython",
    "version": 3
   },
   "file_extension": ".py",
   "mimetype": "text/x-python",
   "name": "python",
   "nbconvert_exporter": "python",
   "pygments_lexer": "ipython3",
   "version": "3.8.8"
  },
  "orig_nbformat": 4
 },
 "nbformat": 4,
 "nbformat_minor": 2
}
