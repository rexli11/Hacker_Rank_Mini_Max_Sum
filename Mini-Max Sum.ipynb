{
 "cells": [
  {
   "cell_type": "code",
   "execution_count": 10,
   "metadata": {},
   "outputs": [
    {
     "name": "stdout",
     "output_type": "stream",
     "text": [
      "arr_total =  25\n",
      "min =  16\n",
      "max =  24\n"
     ]
    }
   ],
   "source": [
    "\n",
    "'''\n",
    "題目 :\n",
    "計算arr減去頭尾的最大最小值\n",
    "arr_min = 1,3,5,7，arr_max = 3,5,7,9\n",
    "\n",
    "範圍 : \n",
    "1 <= arr[i] <= 10**9\n",
    "\n",
    "解題方向 :\n",
    "arr可以加入sort重新排序 \n",
    "判斷範圍\n",
    "判斷arr開頭與結尾的\n",
    "總加後減去頭尾\n",
    "'''\n",
    "\n",
    "\n",
    "def MiniMaxSum(arr) : \n",
    "    arr_total = 0\n",
    "    arr_start = min(arr)\n",
    "    arr_end = max(arr)\n",
    "\n",
    "    for i in range(len(arr)) :\n",
    "        if 1 <= arr[i] <= 10**9 :\n",
    "            arr_total += arr[i]\n",
    "        else : \n",
    "            print(\"arr out of range\")\n",
    "\n",
    "        \n",
    "    print(\"arr_total = \", arr_total)\n",
    "    print(\"min = \", arr_total - arr_end)\n",
    "    print(\"max = \", arr_total - arr_start)\n",
    "\n",
    "\n",
    "if __name__ == \"__main__\" :\n",
    "    arr = [1, 3, 5, 7, 9]\n",
    "\n",
    "    MiniMaxSum(arr)"
   ]
  }
 ],
 "metadata": {
  "interpreter": {
   "hash": "b3ba2566441a7c06988d0923437866b63cedc61552a5af99d1f4fb67d367b25f"
  },
  "kernelspec": {
   "display_name": "Python 3.8.8 ('base')",
   "language": "python",
   "name": "python3"
  },
  "language_info": {
   "codemirror_mode": {
    "name": "ipython",
    "version": 3
   },
   "file_extension": ".py",
   "mimetype": "text/x-python",
   "name": "python",
   "nbconvert_exporter": "python",
   "pygments_lexer": "ipython3",
   "version": "3.8.8"
  },
  "orig_nbformat": 4
 },
 "nbformat": 4,
 "nbformat_minor": 2
}
